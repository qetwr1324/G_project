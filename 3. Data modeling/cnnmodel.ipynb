{
  "nbformat": 4,
  "nbformat_minor": 0,
  "metadata": {
    "colab": {
      "name": "cnnmodel.ipynb",
      "provenance": [],
      "collapsed_sections": [],
      "toc_visible": true,
      "mount_file_id": "1u7eLXQ471-jq6brQij-UrXhj1ovd2qZl",
      "authorship_tag": "ABX9TyOH60ZWmTw+LbNhbQdinXtO",
      "include_colab_link": true
    },
    "kernelspec": {
      "name": "python3",
      "display_name": "Python 3"
    }
  },
  "cells": [
    {
      "cell_type": "markdown",
      "metadata": {
        "id": "view-in-github",
        "colab_type": "text"
      },
      "source": [
        "<a href=\"https://colab.research.google.com/github/swha03/G_project/blob/master/3.%20Data%20modeling/cnnmodel.ipynb\" target=\"_parent\"><img src=\"https://colab.research.google.com/assets/colab-badge.svg\" alt=\"Open In Colab\"/></a>"
      ]
    },
    {
      "cell_type": "markdown",
      "metadata": {
        "id": "n_J3jl0E204n",
        "colab_type": "text"
      },
      "source": [
        "# **main**"
      ]
    },
    {
      "cell_type": "markdown",
      "metadata": {
        "id": "fMy7bNL73BFr",
        "colab_type": "text"
      },
      "source": [
        "## initial settings"
      ]
    },
    {
      "cell_type": "code",
      "metadata": {
        "id": "rJ3hql4Tx1S5",
        "colab_type": "code",
        "colab": {}
      },
      "source": [
        "from google.colab import drive\n",
        "drive.mount('/content/drive/')"
      ],
      "execution_count": 0,
      "outputs": []
    },
    {
      "cell_type": "code",
      "metadata": {
        "id": "GW4ttJzfuMSW",
        "colab_type": "code",
        "colab": {}
      },
      "source": [
        "from PIL import ImageGrab\n",
        "from keras.models import Sequential\n",
        "from keras.layers.core import Dense, Flatten, Dropout\n",
        "from keras.layers.convolutional import Conv2D\n",
        "import keras\n",
        "from keras.callbacks import ModelCheckpoint\n",
        "from sklearn.model_selection import train_test_split\n",
        "from google.colab.patches import cv2_imshow\n",
        "import os\n",
        "import pickle\n",
        "import cv2\n",
        "import numpy as np\n",
        "import pandas as pd\n",
        "import glob"
      ],
      "execution_count": 0,
      "outputs": []
    },
    {
      "cell_type": "markdown",
      "metadata": {
        "id": "eL1ospCT3FuK",
        "colab_type": "text"
      },
      "source": [
        "## global var"
      ]
    },
    {
      "cell_type": "code",
      "metadata": {
        "id": "BiWq-6IQyV0N",
        "colab_type": "code",
        "colab": {}
      },
      "source": [
        "filepath = '/content/drive/My Drive/Colab Notebooks/sample.dat'\n",
        "modelpath = '/content/drive/My Drive/Colab Notebooks/mymodel.h5'"
      ],
      "execution_count": 0,
      "outputs": []
    },
    {
      "cell_type": "markdown",
      "metadata": {
        "id": "3AoqcUUb3mW-",
        "colab_type": "text"
      },
      "source": [
        "## methods"
      ]
    },
    {
      "cell_type": "markdown",
      "metadata": {
        "id": "q4XBzueK4ThS",
        "colab_type": "text"
      },
      "source": [
        "### transform_image"
      ]
    },
    {
      "cell_type": "code",
      "metadata": {
        "id": "F93UVc4qjlFH",
        "colab_type": "code",
        "colab": {}
      },
      "source": [
        "def transform_image(image):\n",
        "    image = image[int(1080 * 0.4):1080, :]\n",
        "    image = cv2.resize(image, (200, 66))\n",
        "    return image"
      ],
      "execution_count": 0,
      "outputs": []
    },
    {
      "cell_type": "markdown",
      "metadata": {
        "id": "5a6lUs_a4C7c",
        "colab_type": "text"
      },
      "source": [
        "### collect_data"
      ]
    },
    {
      "cell_type": "code",
      "metadata": {
        "id": "_gL8L-FTv9YZ",
        "colab_type": "code",
        "colab": {}
      },
      "source": [
        "def collect_data(dirname, csvname):\n",
        "    with open(filepath, 'ab') as f:\n",
        "        data = []\n",
        "        csv = pd.read_csv(csvname, sep=',')\n",
        "        joy_values = csv['wheel'].values.tolist()\n",
        "\n",
        "        images = glob.glob(dirname)\n",
        "\n",
        "        count = 0\n",
        "\n",
        "        for img in images:\n",
        "\n",
        "            screenshot = cv2.imread(img)\n",
        "\n",
        "            if count < len(joy_values):\n",
        "                screenshot = transform_image(np.array(screenshot))\n",
        "\n",
        "                data.append([screenshot, joy_values[count]])\n",
        "\n",
        "            if count == len(images) - 1:\n",
        "                count += 1\n",
        "                print('Collected data count - {0}.'.format(count))\n",
        "                pickle.dump(data, f, pickle.HIGHEST_PROTOCOL)\n",
        "                data = [] \n",
        "\n",
        "            count += 1"
      ],
      "execution_count": 0,
      "outputs": []
    },
    {
      "cell_type": "markdown",
      "metadata": {
        "id": "Snk8aPL64Hm4",
        "colab_type": "text"
      },
      "source": [
        "### read_data"
      ]
    },
    {
      "cell_type": "code",
      "metadata": {
        "id": "gp8aNsH3v_mO",
        "colab_type": "code",
        "colab": {}
      },
      "source": [
        "def read_data(split=False):\n",
        "    with open(filepath, 'rb') as f:\n",
        "        data = []\n",
        "        while True:\n",
        "            try:\n",
        "                temp = pickle.load(f)\n",
        "\n",
        "                if type(temp) is not list:\n",
        "                    temp = np.ndarray.tolist(temp)\n",
        "\n",
        "                data = data + temp\n",
        "            except EOFError:\n",
        "                break\n",
        "        if split:\n",
        "            x_train = []\n",
        "            y_train = []\n",
        "\n",
        "            for i in range(0, len(data)):\n",
        "                x_train.append(data[i][0])\n",
        "                y_train.append(data[i][1])\n",
        "\n",
        "            return np.array(x_train), np.array(y_train)\n",
        "        else:\n",
        "            return np.array(data)"
      ],
      "execution_count": 0,
      "outputs": []
    },
    {
      "cell_type": "markdown",
      "metadata": {
        "id": "Y8RkOp7x4JkI",
        "colab_type": "text"
      },
      "source": [
        "### create_model"
      ]
    },
    {
      "cell_type": "code",
      "metadata": {
        "id": "4rCWj_34wEKl",
        "colab_type": "code",
        "colab": {}
      },
      "source": [
        "def create_model():\n",
        "    nrows = 66\n",
        "    ncols = 200\n",
        "    img_channels = 3\n",
        "    output_size = 1\n",
        "\n",
        "    model = Sequential()\n",
        "    model.add(Dropout(0.35, input_shape=(nrows, ncols, img_channels)))\n",
        "    model.add(Conv2D(filters=24, kernel_size=(5, 5), strides=(2, 2), padding='valid', activation='elu'))\n",
        "    model.add(Conv2D(filters=36, kernel_size=(5, 5), strides=(2, 2), padding='valid', activation='elu'))\n",
        "    model.add(Conv2D(filters=48, kernel_size=(5, 5), strides=(2, 2), padding='valid', activation='elu'))\n",
        "    model.add(Conv2D(filters=64, kernel_size=(3, 3), strides=(1, 1), padding='valid', activation='elu'))\n",
        "    model.add(Conv2D(filters=64, kernel_size=(3, 3), strides=(1, 1), padding='valid', activation='elu'))\n",
        "    model.add(Dropout(0.35))\n",
        "\n",
        "    model.add(Flatten())\n",
        "    model.add(Dense(100, activation='relu'))\n",
        "    model.add(Dense(50, activation='relu'))\n",
        "    model.add(Dense(10, activation='relu'))\n",
        "    model.add(Dense(output_size))\n",
        "    model.summary()\n",
        "\n",
        "    model.compile(loss=keras.losses.mean_squared_error,\n",
        "                  optimizer=keras.optimizers.Adam(lr=0.001),\n",
        "                  metrics=['accuracy'])\n",
        "\n",
        "    return model"
      ],
      "execution_count": 0,
      "outputs": []
    },
    {
      "cell_type": "markdown",
      "metadata": {
        "id": "ZRjQt-aM4Lbo",
        "colab_type": "text"
      },
      "source": [
        "### get_model"
      ]
    },
    {
      "cell_type": "code",
      "metadata": {
        "id": "PKg6aM4rwGSL",
        "colab_type": "code",
        "colab": {}
      },
      "source": [
        "def get_model():\n",
        "    if os.path.isfile(modelpath):\n",
        "        model = keras.models.load_model(modelpath)\n",
        "    else:\n",
        "        model = create_model()\n",
        "\n",
        "    return model"
      ],
      "execution_count": 0,
      "outputs": []
    },
    {
      "cell_type": "markdown",
      "metadata": {
        "id": "YL9nycqY4Ncq",
        "colab_type": "text"
      },
      "source": [
        "### train_model"
      ]
    },
    {
      "cell_type": "code",
      "metadata": {
        "id": "BBl1lAcKwG8G",
        "colab_type": "code",
        "colab": {}
      },
      "source": [
        "def train_model(model):\n",
        "    x, y = read_data(True)\n",
        "\n",
        "    # test data set 0.15 : training data set 85%\n",
        "    x_train, x_valid, y_train, y_valid = train_test_split(x, y, test_size=0.15, random_state=1)\n",
        "\n",
        "    model = get_model()\n",
        "\n",
        "    checkpoint = ModelCheckpoint('model-{epoch:03d}.h5', monitor='val_loss', verbose=1, mode='auto')\n",
        "\n",
        "    model.fit(x_train, y_train, epochs=8, batch_size=64, verbose=1,\n",
        "              validation_data=(x_valid, y_valid), callbacks=[checkpoint])\n",
        "\n",
        "    model.save(modelpath)"
      ],
      "execution_count": 0,
      "outputs": []
    },
    {
      "cell_type": "markdown",
      "metadata": {
        "id": "JMfDDwzG356z",
        "colab_type": "text"
      },
      "source": [
        "## training section"
      ]
    },
    {
      "cell_type": "code",
      "metadata": {
        "id": "ghDrz6FgxvpV",
        "colab_type": "code",
        "colab": {}
      },
      "source": [
        "model = get_model()\n",
        "train_model(model)"
      ],
      "execution_count": 0,
      "outputs": []
    }
  ]
}